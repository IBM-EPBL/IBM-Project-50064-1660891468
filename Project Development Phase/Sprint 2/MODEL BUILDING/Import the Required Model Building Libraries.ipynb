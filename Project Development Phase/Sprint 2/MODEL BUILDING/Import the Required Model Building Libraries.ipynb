{
  "cells": [
    {
      "cell_type": "markdown",
      "source": [
        "**MODEL** **BUILDING**"
      ],
      "metadata": {
        "id": "Rd44qNN3K5Sq"
      }
    },
    {
      "cell_type": "markdown",
      "source": [
        "**Importing The Required Model Building Libraries**"
      ],
      "metadata": {
        "id": "QESP6xAoK7_P"
      }
    },
    {
      "cell_type": "code",
      "source": [
        "from tensorflow.keras.preprocessing.image import ImageDataGenerator"
      ],
      "metadata": {
        "id": "92FTc2QmK_ct"
      },
      "execution_count": 1,
      "outputs": []
    },
    {
      "cell_type": "code",
      "source": [
        "from keras.models import Sequential, load_model\n",
        "from keras.layers.core import Dense, Dropout, Activation\n",
        "from keras.utils import np_utils"
      ],
      "metadata": {
        "id": "FTgkPSZgLOLv"
      },
      "execution_count": 2,
      "outputs": []
    },
    {
      "cell_type": "code",
      "source": [
        "# Training Datagen\n",
        "train_datagen = ImageDataGenerator(rescale=1/255,zoom_range=0.2,horizontal_flip=True,vertical_flip=False)\n",
        "# Testing Datagen\n",
        "test_datagen = ImageDataGenerator(rescale=1/255)"
      ],
      "metadata": {
        "id": "zVpfrqrqLQS4"
      },
      "execution_count": 3,
      "outputs": []
    },
    {
      "cell_type": "code",
      "source": [
        "# Training dataset\n",
        "x_train=train_datagen.flow_from_directory(r'/content/drive/MyDrive/dataset/training_set',target_size=(64,64), class_mode='categorical',batch_size=900)\n",
        "# Testing dataset\n",
        "x_test=test_datagen.flow_from_directory(r'/content/drive/MyDrive/dataset/test_set',target_size=(64,64), class_mode='categorical',batch_size=900)\n"
      ],
      "metadata": {
        "id": "Dc_WeipwLTgw"
      },
      "execution_count": null,
      "outputs": []
    },
    {
      "cell_type": "markdown",
      "source": [
        "Found 15760 images belonging to 9 classes.\n",
        "Found 2250 images belonging to 9 classes.italicized text"
      ],
      "metadata": {
        "id": "FEA_MUZHOuSX"
      }
    },
    {
      "cell_type": "code",
      "source": [
        "print(\"Len x-train : \", len(x_train))\n",
        "print(\"Len x-test : \", len(x_test))"
      ],
      "metadata": {
        "id": "mtjffCaCLdl9"
      },
      "execution_count": null,
      "outputs": []
    },
    {
      "cell_type": "markdown",
      "source": [
        "Len x-train :  18\n",
        "Len x-test :  3"
      ],
      "metadata": {
        "id": "g4BUtn4kP6vC"
      }
    },
    {
      "cell_type": "code",
      "source": [
        "# The Class Indices in Training Dataset\n",
        "x_train.class_indices"
      ],
      "metadata": {
        "id": "AaQfVpEoLhae"
      },
      "execution_count": null,
      "outputs": []
    },
    {
      "cell_type": "markdown",
      "source": [
        "{'A': 0, 'B': 1, 'C': 2, 'D': 3, 'E': 4, 'F': 5, 'G': 6, 'H': 7, 'I': 8}"
      ],
      "metadata": {
        "id": "_b3v3aRnP9Kt"
      }
    },
    {
      "cell_type": "markdown",
      "source": [
        "**Model** **Creation**"
      ],
      "metadata": {
        "id": "myuuHl9nLlTg"
      }
    },
    {
      "cell_type": "code",
      "source": [
        "# Importing Libraries\n",
        "from tensorflow.keras.models import Sequential\n",
        "from tensorflow.keras.layers import Convolution2D,MaxPooling2D,Flatten,Dense"
      ],
      "metadata": {
        "id": "ByluDikOLkXR"
      },
      "execution_count": 7,
      "outputs": []
    },
    {
      "cell_type": "code",
      "source": [
        "dataset = pd.read_csv(‘E:\\Datasets\\Mall_Customers.csv’)"
      ],
      "metadata": {
        "id": "Ift9zTRTLqkQ"
      },
      "execution_count": null,
      "outputs": []
    },
    {
      "cell_type": "code",
      "source": [
        "from google.colab import drive\n",
        "drive.mount('/content/drive')"
      ],
      "metadata": {
        "colab": {
          "base_uri": "https://localhost:8080/"
        },
        "id": "PYAAZwhVL2Ac",
        "outputId": "8bca598a-e375-4ef8-dd89-61e34c456f6f"
      },
      "execution_count": 10,
      "outputs": [
        {
          "output_type": "stream",
          "name": "stdout",
          "text": [
            "Drive already mounted at /content/drive; to attempt to forcibly remount, call drive.mount(\"/content/drive\", force_remount=True).\n"
          ]
        }
      ]
    }
  ],
  "metadata": {
    "colab": {
      "provenance": []
    },
    "kernelspec": {
      "display_name": "Python 3",
      "name": "python3"
    }
  },
  "nbformat": 4,
  "nbformat_minor": 0
}